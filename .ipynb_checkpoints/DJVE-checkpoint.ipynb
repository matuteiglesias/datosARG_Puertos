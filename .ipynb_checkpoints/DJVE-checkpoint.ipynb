{
 "cells": [
  {
   "cell_type": "code",
   "execution_count": 1,
   "metadata": {
    "collapsed": true
   },
   "outputs": [],
   "source": [
    "import pandas as pd"
   ]
  },
  {
   "cell_type": "code",
   "execution_count": 3,
   "metadata": {
    "collapsed": false
   },
   "outputs": [],
   "source": [
    "df = pd.read_csv('./DJVE-Granos-Acumuladas-Aprobadas.csv')"
   ]
  },
  {
   "cell_type": "code",
   "execution_count": 17,
   "metadata": {
    "collapsed": false
   },
   "outputs": [
    {
     "data": {
      "text/plain": [
       "PRODUCTO\n",
       "CENTENO ORGÁNICO                         1.000000e+00\n",
       "ARROZ ORGANICO                           6.250000e+00\n",
       "HARINA DE TRIGO                          2.400000e+01\n",
       "MIJO PERLA                               5.600000e+01\n",
       "ACEITE MEZCLA                            7.400000e+01\n",
       "ACEITE DE SOJA ORGÁNICO                  8.600000e+01\n",
       "GIRASOL CONFITERIA ORGANICO              1.074000e+02\n",
       "SOJA DESACTIVADA ORGÁNICA                2.800000e+02\n",
       "ACEITE DE NABO O COLZA ORGÁNICO          3.405000e+02\n",
       "HARINA DE TRIGO ORGÁNICA                 3.410000e+02\n",
       "MAIZ FLINT ORGÁNICO                      3.600000e+02\n",
       "ARROZ ORGÁNICO                           4.130000e+02\n",
       "POROTOS ORGÁNICOS                        4.319600e+02\n",
       "ARVEJAS ORGÁNICAS                        5.230000e+02\n",
       "ACEITE DE SOJA ORGÁNICA                  5.580000e+02\n",
       "SUBPRODUCTOS DE NABO O COLZA ORGÁNICO    6.550000e+02\n",
       "ARROZ                                    6.569000e+02\n",
       "ACEITE DE TUNG                           7.076800e+02\n",
       "MAIZ FLINT                               7.300000e+02\n",
       "EXPELLERS DE MANI                        7.700000e+02\n",
       "COLZA ORGÁNICA                           8.080000e+02\n",
       "GARBANZOS ORGÁNICOS                      8.747000e+02\n",
       "MIJO ORGÁNICO                            9.614500e+02\n",
       "AVENA ORGÁNICA                           9.950000e+02\n",
       "ALPISTE ORGÁNICO                         1.001000e+03\n",
       "CEBADA ORGÁNICA                          1.643000e+03\n",
       "CEBADA CERVECERA ORGÁNICA                1.997000e+03\n",
       "ACEITE DE LINO                           2.133000e+03\n",
       "CENTENO                                  2.306500e+03\n",
       "CÁRTAMO ORGÁNICO                         2.540000e+03\n",
       "                                             ...     \n",
       "ACEITE MEZCLA                            3.040432e+05\n",
       "GIRASOL                                  3.113143e+05\n",
       "MANI                                     3.369687e+05\n",
       "COLZA                                    3.836930e+05\n",
       "GIRASOL CONFITERIA                       4.042243e+05\n",
       "ACEITE DE MANI                           5.132134e+05\n",
       "FIBRA DE ALGODÓN                         5.225863e+05\n",
       "SOJA DESACTIVADA                         5.863414e+05\n",
       "ARVEJAS                                  6.142210e+05\n",
       "SUBPRODUCTOS DE TRIGO                    7.158964e+05\n",
       "GARBANZOS                                7.523551e+05\n",
       "MANI CONFITERIA                          1.345862e+06\n",
       "MAIZ PISINGALLO                          1.660669e+06\n",
       "POROTOS                                  2.388784e+06\n",
       "CEBADA CERVECERA                         2.448864e+06\n",
       "MAIZ FLINT                               2.564654e+06\n",
       "CEBADA FORRAJERA                         3.855792e+06\n",
       "ARROZ                                    4.026314e+06\n",
       "HARINA DE TRIGO                          4.402014e+06\n",
       "ACEITE DE GIRASOL                        4.430560e+06\n",
       "MALTA                                    4.443290e+06\n",
       "SUBPRODUCTOS DE GIRASOL                  5.012347e+06\n",
       "TRIGO PAN BAJA PROTEÍNA                  7.232806e+06\n",
       "SORGO                                    1.000922e+07\n",
       "CEBADA                                   1.621388e+07\n",
       "ACEITE DE SOJA                           3.549395e+07\n",
       "TRIGO PAN                                5.663409e+07\n",
       "SOJA                                     6.054551e+07\n",
       "MAIZ                                     1.548617e+08\n",
       "SUBPRODUCTOS DE SOJA                     1.996955e+08\n",
       "Name: TONS, Length: 98, dtype: float64"
      ]
     },
     "execution_count": 17,
     "metadata": {},
     "output_type": "execute_result"
    }
   ],
   "source": [
    "df.groupby('PRODUCTO')['TONS'].sum().sort_values()"
   ]
  },
  {
   "cell_type": "code",
   "execution_count": 29,
   "metadata": {
    "collapsed": false
   },
   "outputs": [
    {
     "data": {
      "image/png": "[encoded data removed]",
      "text/plain": [
       "<matplotlib.figure.Figure at 0x7f28e9e80e10>"
      ]
     },
     "metadata": {},
     "output_type": "display_data"
    }
   ],
   "source": [
    "# import numpy as np\n",
    "import matplotlib.pyplot as plt\n",
    "%matplotlib inline\n",
    "\n",
    "plt.hist(np.log10(df.loc[df['PRODUCTO'] == 'TRIGO PAN'\n",
    "                        ].groupby('RAZON SOCIAL')['TONS'].sum().sort_values()), 15, alpha = .3, label = 'TP')\n",
    "plt.hist(np.log10(df.loc[df['PRODUCTO'] == 'SOJA'\n",
    "                        ].groupby('RAZON SOCIAL')['TONS'].sum().sort_values()), 15, alpha = .3, label = 'S')\n",
    "plt.hist(np.log10(df.loc[df['PRODUCTO'] == 'MAIZ'\n",
    "                        ].groupby('RAZON SOCIAL')['TONS'].sum().sort_values()), 15, alpha = .3, label = 'M')\n",
    "plt.hist(np.log10(df.loc[df['PRODUCTO'] == 'SUBPRODUCTOS DE SOJA'\n",
    "                        ].groupby('RAZON SOCIAL')['TONS'].sum().sort_values()), 15, alpha = .3, label = 'SS')\n",
    "plt.legend()\n",
    "plt.show()"
   ]
  },
  {
   "cell_type": "code",
   "execution_count": null,
   "metadata": {
    "collapsed": true
   },
   "outputs": [],
   "source": []
  }
 ],
 "metadata": {
  "kernelspec": {
   "display_name": "Python 2",
   "language": "python",
   "name": "python2"
  },
  "language_info": {
   "codemirror_mode": {
    "name": "ipython",
    "version": 2
   },
   "file_extension": ".py",
   "mimetype": "text/x-python",
   "name": "python",
   "nbconvert_exporter": "python",
   "pygments_lexer": "ipython2",
   "version": "2.7.13"
  }
 },
 "nbformat": 4,
 "nbformat_minor": 2
}
